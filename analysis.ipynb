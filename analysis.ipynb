{
 "cells": [
  {
   "cell_type": "code",
   "execution_count": 3,
   "metadata": {},
   "outputs": [],
   "source": [
    "import pandas as pd\n",
    "import requests"
   ]
  },
  {
   "attachments": {},
   "cell_type": "markdown",
   "metadata": {},
   "source": [
    "#### Fetch 1000 restaurants from Yelp API <br> Yelp API has a limitation that only allows exporting 1000 places <br>https://docs.developer.yelp.com/reference/v3_business_search"
   ]
  },
  {
   "cell_type": "code",
   "execution_count": 4,
   "metadata": {},
   "outputs": [
    {
     "name": "stdout",
     "output_type": "stream",
     "text": [
      "https://api.yelp.com/v3/businesses/search?location=Louisville%2C%20KY&term=restaurant&sort_by=best_match&limit=50&offset=0\n",
      "https://api.yelp.com/v3/businesses/search?location=Louisville%2C%20KY&term=restaurant&sort_by=best_match&limit=50&offset=50\n",
      "https://api.yelp.com/v3/businesses/search?location=Louisville%2C%20KY&term=restaurant&sort_by=best_match&limit=50&offset=100\n",
      "https://api.yelp.com/v3/businesses/search?location=Louisville%2C%20KY&term=restaurant&sort_by=best_match&limit=50&offset=150\n",
      "https://api.yelp.com/v3/businesses/search?location=Louisville%2C%20KY&term=restaurant&sort_by=best_match&limit=50&offset=200\n",
      "https://api.yelp.com/v3/businesses/search?location=Louisville%2C%20KY&term=restaurant&sort_by=best_match&limit=50&offset=250\n",
      "https://api.yelp.com/v3/businesses/search?location=Louisville%2C%20KY&term=restaurant&sort_by=best_match&limit=50&offset=300\n",
      "https://api.yelp.com/v3/businesses/search?location=Louisville%2C%20KY&term=restaurant&sort_by=best_match&limit=50&offset=350\n",
      "https://api.yelp.com/v3/businesses/search?location=Louisville%2C%20KY&term=restaurant&sort_by=best_match&limit=50&offset=400\n",
      "https://api.yelp.com/v3/businesses/search?location=Louisville%2C%20KY&term=restaurant&sort_by=best_match&limit=50&offset=450\n",
      "https://api.yelp.com/v3/businesses/search?location=Louisville%2C%20KY&term=restaurant&sort_by=best_match&limit=50&offset=500\n",
      "https://api.yelp.com/v3/businesses/search?location=Louisville%2C%20KY&term=restaurant&sort_by=best_match&limit=50&offset=550\n",
      "https://api.yelp.com/v3/businesses/search?location=Louisville%2C%20KY&term=restaurant&sort_by=best_match&limit=50&offset=600\n",
      "https://api.yelp.com/v3/businesses/search?location=Louisville%2C%20KY&term=restaurant&sort_by=best_match&limit=50&offset=650\n",
      "https://api.yelp.com/v3/businesses/search?location=Louisville%2C%20KY&term=restaurant&sort_by=best_match&limit=50&offset=700\n",
      "https://api.yelp.com/v3/businesses/search?location=Louisville%2C%20KY&term=restaurant&sort_by=best_match&limit=50&offset=750\n",
      "https://api.yelp.com/v3/businesses/search?location=Louisville%2C%20KY&term=restaurant&sort_by=best_match&limit=50&offset=800\n",
      "https://api.yelp.com/v3/businesses/search?location=Louisville%2C%20KY&term=restaurant&sort_by=best_match&limit=50&offset=850\n",
      "https://api.yelp.com/v3/businesses/search?location=Louisville%2C%20KY&term=restaurant&sort_by=best_match&limit=50&offset=900\n",
      "https://api.yelp.com/v3/businesses/search?location=Louisville%2C%20KY&term=restaurant&sort_by=best_match&limit=50&offset=950\n"
     ]
    }
   ],
   "source": [
    "# Export to yelp_places.xlsx\n",
    "headers = {\n",
    "    \"accept\": \"application/json\",\n",
    "    \"Authorization\": \"Bearer \"\n",
    "}\n",
    "\n",
    "all_data = [] \n",
    "\n",
    "offset = 0\n",
    "limit = 50\n",
    "\n",
    "while offset < 1000:\n",
    "    url = f\"https://api.yelp.com/v3/businesses/search?location=Louisville%2C%20KY&term=restaurant&sort_by=best_match&limit={limit}&offset={offset}\"\n",
    "    print(url)\n",
    "\n",
    "    response = requests.get(url, headers=headers)\n",
    "    data = response.json()\n",
    "    \n",
    "    # Append the 'businesses' data to the list\n",
    "    all_data.extend(data['businesses'])\n",
    "\n",
    "    offset += limit\n",
    "\n",
    "# Convert the list of dictionaries to a DataFrame\n",
    "df = pd.json_normalize(all_data)  \n",
    "df.to_excel(\"yelp_places.xlsx\", index=False)"
   ]
  },
  {
   "attachments": {},
   "cell_type": "markdown",
   "metadata": {},
   "source": [
    "#### Read yelp_places.xlsx to dataframe"
   ]
  },
  {
   "cell_type": "code",
   "execution_count": null,
   "metadata": {},
   "outputs": [],
   "source": [
    "yelp_df = pd.read_excel(\"yelp_places.xlsx\")\n",
    "yelp_df = yelp_df.applymap(lambda s: s.lower() if type(s) == str else s)\n",
    "yelp_df"
   ]
  },
  {
   "attachments": {},
   "cell_type": "markdown",
   "metadata": {},
   "source": [
    "#### Read louisville_inspection.xlsx file to dataframe"
   ]
  },
  {
   "cell_type": "code",
   "execution_count": null,
   "metadata": {},
   "outputs": [],
   "source": [
    "lou_inspection = pd.read_excel(\"louisville_inspection.xlsx\")\n",
    "lou_inspection.columns = lou_inspection.columns.str.lower()\n",
    "lou_inspection = lou_inspection.applymap(lambda s: s.lower() if type(s) == str else s)\n",
    "lou_inspection"
   ]
  },
  {
   "attachments": {},
   "cell_type": "markdown",
   "metadata": {},
   "source": [
    "#### Merge dataframes to make a single dataframe"
   ]
  },
  {
   "cell_type": "code",
   "execution_count": 16,
   "metadata": {},
   "outputs": [],
   "source": [
    "merged_df = pd.merge(lou_inspection,yelp_df, left_on=['establishmentname','address'], right_on=['name','location.address1'])\n",
    "merged_df.drop(columns=['address2','city','state','namesearch','intersection','objectid','id','alias',\\\n",
    "                     'name', 'is_closed','image_url','url','categories','transactions','phone','display_phone','distance',\\\n",
    "                     'coordinates.latitude','coordinates.longitude','location.address2','location.address3',\\\n",
    "                     'location.city','location.zip_code','location.country','location.state','location.display_address','location.address1'], inplace=True)\n",
    "merged_df.to_excel(\"merged_output.xlsx\", index=False)"
   ]
  },
  {
   "cell_type": "code",
   "execution_count": null,
   "metadata": {},
   "outputs": [],
   "source": [
    "# merged_df"
   ]
  },
  {
   "attachments": {},
   "cell_type": "markdown",
   "metadata": {},
   "source": [
    "##### ONLY return records where score != 0"
   ]
  },
  {
   "cell_type": "code",
   "execution_count": 18,
   "metadata": {},
   "outputs": [],
   "source": [
    "mask = merged_df['score'] != 0\n",
    "merged_df_masked = merged_df[mask]\n",
    "merged_df_masked.to_excel(\"merged_output_masked.xlsx\", index=False)"
   ]
  },
  {
   "attachments": {},
   "cell_type": "markdown",
   "metadata": {},
   "source": [
    "#### Output data into queryable table (SQLite)"
   ]
  },
  {
   "cell_type": "code",
   "execution_count": null,
   "metadata": {},
   "outputs": [],
   "source": [
    "# come back if I have time"
   ]
  },
  {
   "attachments": {},
   "cell_type": "markdown",
   "metadata": {},
   "source": [
    "##### Visualizations"
   ]
  },
  {
   "cell_type": "code",
   "execution_count": null,
   "metadata": {},
   "outputs": [],
   "source": []
  }
 ],
 "metadata": {
  "kernelspec": {
   "display_name": "venv",
   "language": "python",
   "name": "python3"
  },
  "language_info": {
   "codemirror_mode": {
    "name": "ipython",
    "version": 3
   },
   "file_extension": ".py",
   "mimetype": "text/x-python",
   "name": "python",
   "nbconvert_exporter": "python",
   "pygments_lexer": "ipython3",
   "version": "3.9.6"
  },
  "orig_nbformat": 4
 },
 "nbformat": 4,
 "nbformat_minor": 2
}
